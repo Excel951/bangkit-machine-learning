{
 "cells": [
  {
   "cell_type": "markdown",
   "metadata": {
    "colab_type": "text",
    "id": "view-in-github"
   },
   "source": [
    "<a href=\"https://colab.research.google.com/github/https-deeplearning-ai/tensorflow-3-public/blob/main/Course%201%20-%20Custom%20Models%2C%20Layers%20and%20Loss%20Functions/Week%205%20-%20Callbacks/C1_W5_Lab_1_exploring-callbacks.ipynb\" target=\"_parent\"><img src=\"https://colab.research.google.com/assets/colab-badge.svg\" alt=\"Open In Colab\"/></a>"
   ]
  },
  {
   "cell_type": "markdown",
   "metadata": {
    "colab_type": "text",
    "id": "0c_TYhQOUe1j"
   },
   "source": [
    "# Ungraded Lab: Introduction to Keras callbacks\n",
    "\n",
    "In Keras, `Callback` is a Python class meant to be subclassed to provide specific functionality, with a set of methods called at various stages of training (including batch/epoch start and ends), testing, and predicting. Callbacks are useful to get a view on internal states and statistics of the model during training. The methods of the callbacks can  be called at different stages of training/evaluating/inference. Keras has available [callbacks](https://keras.io/api/callbacks/) and we'll show how you can use it in the following sections. Please click the **Open in Colab** badge above to complete this exercise in Colab. This will allow you to take advantage of the free GPU runtime (for faster training) and compatibility with all the packages needed in this notebook."
   ]
  },
  {
   "cell_type": "markdown",
   "metadata": {
    "colab_type": "text",
    "id": "Uyl69EyRQx-f"
   },
   "source": [
    "## Model methods that take callbacks\n",
    "Users can supply a list of callbacks to the following `tf.keras.Model` methods:\n",
    "* [`fit()`](https://www.tensorflow.org/versions/r2.0/api_docs/python/tf/keras/Model#fit), [`fit_generator()`](https://www.tensorflow.org/versions/r2.0/api_docs/python/tf/keras/Model#fit_generator)\n",
    "Trains the model for a fixed number of epochs (iterations over a dataset, or data yielded batch-by-batch by a Python generator).\n",
    "* [`evaluate()`](https://www.tensorflow.org/versions/r2.0/api_docs/python/tf/keras/Model#evaluate), [`evaluate_generator()`](https://www.tensorflow.org/versions/r2.0/api_docs/python/tf/keras/Model#evaluate_generator)\n",
    "Evaluates the model for given data or data generator. Outputs the loss and metric values from the evaluation.\n",
    "* [`predict()`](https://www.tensorflow.org/versions/r2.0/api_docs/python/tf/keras/Model#predict), [`predict_generator()`](https://www.tensorflow.org/versions/r2.0/api_docs/python/tf/keras/Model#predict_generator)\n",
    "Generates output predictions for the input data or data generator."
   ]
  },
  {
   "cell_type": "markdown",
   "metadata": {},
   "source": [
    "## Imports"
   ]
  },
  {
   "cell_type": "code",
   "execution_count": 1,
   "metadata": {
    "colab": {},
    "colab_type": "code",
    "id": "AlT1Kh3uA9lZ"
   },
   "outputs": [
    {
     "name": "stdout",
     "output_type": "stream",
     "text": [
      "Version:  2.1.0\n"
     ]
    }
   ],
   "source": [
    "from __future__ import absolute_import, division, print_function, unicode_literals\n",
    "\n",
    "try:\n",
    "    # %tensorflow_version only exists in Colab.\n",
    "    %tensorflow_version 2.x\n",
    "except Exception:\n",
    "    pass\n",
    "\n",
    "import tensorflow as tf\n",
    "import tensorflow_datasets as tfds\n",
    "import matplotlib.pyplot as plt\n",
    "import io\n",
    "from PIL import Image\n",
    "\n",
    "from tensorflow.keras.callbacks import TensorBoard, EarlyStopping, LearningRateScheduler, ModelCheckpoint, CSVLogger, ReduceLROnPlateau\n",
    "%load_ext tensorboard\n",
    "\n",
    "import os\n",
    "import matplotlib.pylab as plt\n",
    "import numpy as np\n",
    "import math\n",
    "import datetime\n",
    "import pandas as pd\n",
    "\n",
    "print(\"Version: \", tf.__version__)\n",
    "tf.get_logger().setLevel('INFO')"
   ]
  },
  {
   "cell_type": "markdown",
   "metadata": {
    "colab_type": "text",
    "id": "HnSljqtsXKfb"
   },
   "source": [
    "# Examples of Keras callback applications\n",
    "The following section will guide you through creating simple [Callback](https://keras.io/api/callbacks/) applications."
   ]
  },
  {
   "cell_type": "code",
   "execution_count": 2,
   "metadata": {
    "colab": {},
    "colab_type": "code",
    "id": "spskRuxvCYQE"
   },
   "outputs": [],
   "source": [
    "# Download and prepare the horses or humans dataset\n",
    "\n",
    "# horses_or_humans 3.0.0 has already been downloaded for you\n",
    "path = \"./tensorflow_datasets\"\n",
    "splits, info = tfds.load('horses_or_humans', data_dir=path, as_supervised=True, with_info=True, split=['train[:80%]', 'train[80%:]', 'test'])\n",
    "\n",
    "(train_examples, validation_examples, test_examples) = splits\n",
    "\n",
    "num_examples = info.splits['train'].num_examples\n",
    "num_classes = info.features['label'].num_classes"
   ]
  },
  {
   "cell_type": "code",
   "execution_count": 3,
   "metadata": {
    "colab": {},
    "colab_type": "code",
    "id": "veIsubKTCZsN"
   },
   "outputs": [],
   "source": [
    "SIZE = 150 #@param {type:\"slider\", min:64, max:300, step:1}\n",
    "IMAGE_SIZE = (SIZE, SIZE)"
   ]
  },
  {
   "cell_type": "code",
   "execution_count": 4,
   "metadata": {
    "colab": {},
    "colab_type": "code",
    "id": "faajLlErCb1S"
   },
   "outputs": [],
   "source": [
    "def format_image(image, label):\n",
    "  image = tf.image.resize(image, IMAGE_SIZE) / 255.0\n",
    "  return  image, label"
   ]
  },
  {
   "cell_type": "code",
   "execution_count": 5,
   "metadata": {
    "colab": {},
    "colab_type": "code",
    "id": "AVXPuU12Cdka"
   },
   "outputs": [],
   "source": [
    "BATCH_SIZE = 32 #@param {type:\"integer\"}"
   ]
  },
  {
   "cell_type": "code",
   "execution_count": 6,
   "metadata": {
    "colab": {},
    "colab_type": "code",
    "id": "0lHDkFVaCe48"
   },
   "outputs": [],
   "source": [
    "train_batches = train_examples.shuffle(num_examples // 4).map(format_image).batch(BATCH_SIZE).prefetch(1)\n",
    "validation_batches = validation_examples.map(format_image).batch(BATCH_SIZE).prefetch(1)\n",
    "test_batches = test_examples.map(format_image).batch(1)"
   ]
  },
  {
   "cell_type": "code",
   "execution_count": 7,
   "metadata": {
    "colab": {},
    "colab_type": "code",
    "id": "DxsCqEIkCgUt"
   },
   "outputs": [
    {
     "data": {
      "text/plain": [
       "TensorShape([32, 150, 150, 3])"
      ]
     },
     "execution_count": 7,
     "metadata": {},
     "output_type": "execute_result"
    }
   ],
   "source": [
    "for image_batch, label_batch in train_batches.take(1):\n",
    "  pass\n",
    "\n",
    "image_batch.shape"
   ]
  },
  {
   "cell_type": "code",
   "execution_count": 8,
   "metadata": {
    "colab": {},
    "colab_type": "code",
    "id": "iDBpWvHXCh2A"
   },
   "outputs": [],
   "source": [
    "def build_model(dense_units, input_shape=IMAGE_SIZE + (3,)):\n",
    "  model = tf.keras.models.Sequential([\n",
    "      tf.keras.layers.Conv2D(16, (3, 3), activation='relu', input_shape=input_shape),\n",
    "      tf.keras.layers.MaxPooling2D(2, 2),\n",
    "      tf.keras.layers.Conv2D(32, (3, 3), activation='relu'),\n",
    "      tf.keras.layers.MaxPooling2D(2, 2),\n",
    "      tf.keras.layers.Conv2D(64, (3, 3), activation='relu'),\n",
    "      tf.keras.layers.MaxPooling2D(2, 2),\n",
    "      tf.keras.layers.Flatten(),\n",
    "      tf.keras.layers.Dense(dense_units, activation='relu'),\n",
    "      tf.keras.layers.Dense(2, activation='softmax')\n",
    "  ])\n",
    "  return model"
   ]
  },
  {
   "cell_type": "markdown",
   "metadata": {
    "colab_type": "text",
    "id": "0ZKGkjagENSw"
   },
   "source": [
    "## [TensorBoard](https://keras.io/api/callbacks/tensorboard/)\n",
    "\n",
    "Enable visualizations for TensorBoard."
   ]
  },
  {
   "cell_type": "code",
   "execution_count": 9,
   "metadata": {
    "colab": {},
    "colab_type": "code",
    "id": "CeiD2WVEHbex"
   },
   "outputs": [],
   "source": [
    "!rm -rf logs"
   ]
  },
  {
   "cell_type": "code",
   "execution_count": 10,
   "metadata": {
    "colab": {},
    "colab_type": "code",
    "id": "PpLwPLnAEOzv"
   },
   "outputs": [
    {
     "name": "stdout",
     "output_type": "stream",
     "text": [
      "Epoch 1/10\n",
      "26/26 [==============================] - 22s 840ms/step - loss: 0.6655 - accuracy: 0.5864 - val_loss: 0.6555 - val_accuracy: 0.5463\n",
      "Epoch 2/10\n",
      "26/26 [==============================] - 20s 784ms/step - loss: 0.6215 - accuracy: 0.6800 - val_loss: 0.5997 - val_accuracy: 0.7659\n",
      "Epoch 3/10\n",
      "26/26 [==============================] - 20s 769ms/step - loss: 0.5668 - accuracy: 0.7737 - val_loss: 0.6970 - val_accuracy: 0.4634\n",
      "Epoch 4/10\n",
      "26/26 [==============================] - 20s 777ms/step - loss: 0.5127 - accuracy: 0.7616 - val_loss: 0.4458 - val_accuracy: 0.8878\n",
      "Epoch 5/10\n",
      "26/26 [==============================] - 22s 831ms/step - loss: 0.4354 - accuracy: 0.8309 - val_loss: 0.4428 - val_accuracy: 0.7756\n",
      "Epoch 6/10\n",
      "26/26 [==============================] - 21s 801ms/step - loss: 0.3888 - accuracy: 0.8504 - val_loss: 0.3648 - val_accuracy: 0.8927\n",
      "Epoch 7/10\n",
      "26/26 [==============================] - 20s 781ms/step - loss: 0.3280 - accuracy: 0.8796 - val_loss: 0.2778 - val_accuracy: 0.9220\n",
      "Epoch 8/10\n",
      "26/26 [==============================] - 21s 826ms/step - loss: 0.2625 - accuracy: 0.9088 - val_loss: 0.1944 - val_accuracy: 0.9756\n",
      "Epoch 9/10\n",
      "26/26 [==============================] - 19s 731ms/step - loss: 0.1966 - accuracy: 0.9416 - val_loss: 0.1820 - val_accuracy: 0.9366\n",
      "Epoch 10/10\n",
      "26/26 [==============================] - 19s 735ms/step - loss: 0.1644 - accuracy: 0.9586 - val_loss: 0.2373 - val_accuracy: 0.9122\n"
     ]
    },
    {
     "data": {
      "text/plain": [
       "<tensorflow.python.keras.callbacks.History at 0x7b3479829c10>"
      ]
     },
     "execution_count": 10,
     "metadata": {},
     "output_type": "execute_result"
    }
   ],
   "source": [
    "model = build_model(dense_units=256)\n",
    "model.compile(\n",
    "    optimizer='sgd',\n",
    "    loss='sparse_categorical_crossentropy', \n",
    "    metrics=['accuracy'])\n",
    "  \n",
    "logdir = os.path.join(\"logs\", datetime.datetime.now().strftime(\"%Y%m%d-%H%M%S\"))\n",
    "tensorboard_callback = tf.keras.callbacks.TensorBoard(logdir)\n",
    "\n",
    "model.fit(train_batches, \n",
    "          epochs=10, \n",
    "          validation_data=validation_batches, \n",
    "          callbacks=[tensorboard_callback])"
   ]
  },
  {
   "cell_type": "code",
   "execution_count": 11,
   "metadata": {
    "colab": {},
    "colab_type": "code",
    "id": "iJunWOjZE0ir"
   },
   "outputs": [
    {
     "data": {
      "text/html": [
       "\n",
       "      <iframe id=\"tensorboard-frame-460a9a5d8133aaf2\" width=\"100%\" height=\"800\" frameborder=\"0\">\n",
       "      </iframe>\n",
       "      <script>\n",
       "        (function() {\n",
       "          const frame = document.getElementById(\"tensorboard-frame-460a9a5d8133aaf2\");\n",
       "          const url = new URL(\"/\", window.location);\n",
       "          url.port = 6006;\n",
       "          frame.src = url;\n",
       "        })();\n",
       "      </script>\n",
       "  "
      ],
      "text/plain": [
       "<IPython.core.display.HTML object>"
      ]
     },
     "metadata": {},
     "output_type": "display_data"
    }
   ],
   "source": [
    "%tensorboard --logdir logs"
   ]
  },
  {
   "cell_type": "markdown",
   "metadata": {
    "colab_type": "text",
    "id": "wv9H4Pc2Mfl7"
   },
   "source": [
    "## [Model Checkpoint](https://keras.io/api/callbacks/model_checkpoint/)\n",
    "\n",
    "Callback to save the Keras model or model weights at some frequency."
   ]
  },
  {
   "cell_type": "code",
   "execution_count": 12,
   "metadata": {
    "colab": {},
    "colab_type": "code",
    "id": "PYV4FJ8iMmDq"
   },
   "outputs": [
    {
     "name": "stdout",
     "output_type": "stream",
     "text": [
      "Epoch 1/5\n",
      "\n",
      "Epoch 00001: saving model to weights.01-0.67.h5\n",
      "26/26 - 22s - loss: 0.6754 - accuracy: 0.5633 - val_loss: 0.6677 - val_accuracy: 0.4780\n",
      "Epoch 2/5\n",
      "\n",
      "Epoch 00002: saving model to weights.02-0.60.h5\n",
      "26/26 - 20s - loss: 0.6290 - accuracy: 0.7007 - val_loss: 0.5982 - val_accuracy: 0.7610\n",
      "Epoch 3/5\n",
      "\n",
      "Epoch 00003: saving model to weights.03-0.53.h5\n",
      "26/26 - 22s - loss: 0.5587 - accuracy: 0.7701 - val_loss: 0.5298 - val_accuracy: 0.7854\n",
      "Epoch 4/5\n",
      "\n",
      "Epoch 00004: saving model to weights.04-0.50.h5\n",
      "26/26 - 20s - loss: 0.5107 - accuracy: 0.7774 - val_loss: 0.4976 - val_accuracy: 0.7902\n",
      "Epoch 5/5\n",
      "\n",
      "Epoch 00005: saving model to weights.05-0.45.h5\n",
      "26/26 - 20s - loss: 0.4591 - accuracy: 0.7859 - val_loss: 0.4526 - val_accuracy: 0.8098\n"
     ]
    },
    {
     "data": {
      "text/plain": [
       "<tensorflow.python.keras.callbacks.History at 0x7b34796f4710>"
      ]
     },
     "execution_count": 12,
     "metadata": {},
     "output_type": "execute_result"
    }
   ],
   "source": [
    "model = build_model(dense_units=256)\n",
    "model.compile(\n",
    "    optimizer='sgd',\n",
    "    loss='sparse_categorical_crossentropy', \n",
    "    metrics=['accuracy'])\n",
    "  \n",
    "model.fit(train_batches, \n",
    "          epochs=5, \n",
    "          validation_data=validation_batches, \n",
    "          verbose=2,\n",
    "          callbacks=[ModelCheckpoint('weights.{epoch:02d}-{val_loss:.2f}.h5', verbose=1),\n",
    "          ])"
   ]
  },
  {
   "cell_type": "code",
   "execution_count": 13,
   "metadata": {
    "colab": {},
    "colab_type": "code",
    "id": "oGvjQ8IlMmK6"
   },
   "outputs": [
    {
     "name": "stdout",
     "output_type": "stream",
     "text": [
      "\n",
      "Epoch 00001: saving model to saved_model\n",
      "WARNING:tensorflow:From /opt/conda/lib/python3.7/site-packages/tensorflow_core/python/ops/resource_variable_ops.py:1786: calling BaseResourceVariable.__init__ (from tensorflow.python.ops.resource_variable_ops) with constraint is deprecated and will be removed in a future version.\n",
      "Instructions for updating:\n",
      "If using Keras pass *_constraint arguments to layers.\n"
     ]
    },
    {
     "name": "stderr",
     "output_type": "stream",
     "text": [
      "WARNING:tensorflow:From /opt/conda/lib/python3.7/site-packages/tensorflow_core/python/ops/resource_variable_ops.py:1786: calling BaseResourceVariable.__init__ (from tensorflow.python.ops.resource_variable_ops) with constraint is deprecated and will be removed in a future version.\n",
      "Instructions for updating:\n",
      "If using Keras pass *_constraint arguments to layers.\n"
     ]
    },
    {
     "name": "stdout",
     "output_type": "stream",
     "text": [
      "INFO:tensorflow:Assets written to: saved_model/assets\n"
     ]
    },
    {
     "name": "stderr",
     "output_type": "stream",
     "text": [
      "INFO:tensorflow:Assets written to: saved_model/assets\n"
     ]
    },
    {
     "name": "stdout",
     "output_type": "stream",
     "text": [
      "26/26 - 25s - loss: 0.6718 - accuracy: 0.6095 - val_loss: 0.6584 - val_accuracy: 0.6341\n"
     ]
    },
    {
     "data": {
      "text/plain": [
       "<tensorflow.python.keras.callbacks.History at 0x7b34795aeb10>"
      ]
     },
     "execution_count": 13,
     "metadata": {},
     "output_type": "execute_result"
    }
   ],
   "source": [
    "model = build_model(dense_units=256)\n",
    "model.compile(\n",
    "    optimizer='sgd',\n",
    "    loss='sparse_categorical_crossentropy', \n",
    "    metrics=['accuracy'])\n",
    "  \n",
    "model.fit(train_batches, \n",
    "          epochs=1, \n",
    "          validation_data=validation_batches, \n",
    "          verbose=2,\n",
    "          callbacks=[ModelCheckpoint('saved_model', verbose=1)\n",
    "          ])"
   ]
  },
  {
   "cell_type": "code",
   "execution_count": 14,
   "metadata": {
    "colab": {},
    "colab_type": "code",
    "id": "Y1ConwoB0EjD"
   },
   "outputs": [
    {
     "name": "stdout",
     "output_type": "stream",
     "text": [
      "Epoch 1/2\n",
      "\n",
      "Epoch 00001: saving model to model.h5\n",
      "26/26 - 19s - loss: 0.6496 - accuracy: 0.6265 - val_loss: 0.6129 - val_accuracy: 0.6390\n",
      "Epoch 2/2\n",
      "\n",
      "Epoch 00002: saving model to model.h5\n",
      "26/26 - 19s - loss: 0.6032 - accuracy: 0.6837 - val_loss: 0.6030 - val_accuracy: 0.6195\n"
     ]
    },
    {
     "data": {
      "text/plain": [
       "<tensorflow.python.keras.callbacks.History at 0x7b3479405e10>"
      ]
     },
     "execution_count": 14,
     "metadata": {},
     "output_type": "execute_result"
    }
   ],
   "source": [
    "model = build_model(dense_units=256)\n",
    "model.compile(\n",
    "    optimizer='sgd',\n",
    "    loss='sparse_categorical_crossentropy', \n",
    "    metrics=['accuracy'])\n",
    "  \n",
    "model.fit(train_batches, \n",
    "          epochs=2, \n",
    "          validation_data=validation_batches, \n",
    "          verbose=2,\n",
    "          callbacks=[ModelCheckpoint('model.h5', verbose=1)\n",
    "          ])"
   ]
  },
  {
   "cell_type": "markdown",
   "metadata": {
    "colab_type": "text",
    "id": "kptNF0--Lznv"
   },
   "source": [
    "## [Early stopping](https://keras.io/api/callbacks/early_stopping/)\n",
    "\n",
    "Stop training when a monitored metric has stopped improving."
   ]
  },
  {
   "cell_type": "code",
   "execution_count": 15,
   "metadata": {
    "colab": {},
    "colab_type": "code",
    "id": "KJOJTJYdCkdY"
   },
   "outputs": [
    {
     "name": "stdout",
     "output_type": "stream",
     "text": [
      "Epoch 1/50\n",
      "26/26 - 20s - loss: 0.6816 - accuracy: 0.5438 - val_loss: 0.6764 - val_accuracy: 0.5171\n",
      "Epoch 2/50\n",
      "26/26 - 19s - loss: 0.6523 - accuracy: 0.6363 - val_loss: 0.6693 - val_accuracy: 0.4927\n",
      "Epoch 3/50\n",
      "26/26 - 19s - loss: 0.6127 - accuracy: 0.7202 - val_loss: 0.5968 - val_accuracy: 0.7220\n",
      "Epoch 4/50\n",
      "26/26 - 19s - loss: 0.5536 - accuracy: 0.7822 - val_loss: 0.5641 - val_accuracy: 0.6927\n",
      "Epoch 5/50\n",
      "26/26 - 19s - loss: 0.4961 - accuracy: 0.7895 - val_loss: 0.4472 - val_accuracy: 0.8098\n",
      "Epoch 6/50\n",
      "26/26 - 19s - loss: 0.4510 - accuracy: 0.8066 - val_loss: 0.4033 - val_accuracy: 0.8683\n",
      "Epoch 7/50\n",
      "26/26 - 18s - loss: 0.3773 - accuracy: 0.8528 - val_loss: 0.3218 - val_accuracy: 0.9024\n",
      "Epoch 8/50\n",
      "26/26 - 18s - loss: 0.3256 - accuracy: 0.8881 - val_loss: 0.2379 - val_accuracy: 0.9512\n",
      "Epoch 9/50\n",
      "26/26 - 18s - loss: 0.2302 - accuracy: 0.9355 - val_loss: 0.1768 - val_accuracy: 0.9805\n",
      "Epoch 10/50\n",
      "26/26 - 18s - loss: 0.1991 - accuracy: 0.9453 - val_loss: 0.1529 - val_accuracy: 0.9805\n",
      "Epoch 11/50\n",
      "26/26 - 18s - loss: 0.1490 - accuracy: 0.9684 - val_loss: 0.1736 - val_accuracy: 0.9415\n",
      "Epoch 12/50\n",
      "26/26 - 18s - loss: 0.1187 - accuracy: 0.9708 - val_loss: 0.1117 - val_accuracy: 0.9707\n",
      "Epoch 13/50\n",
      "26/26 - 18s - loss: 0.1109 - accuracy: 0.9720 - val_loss: 0.1145 - val_accuracy: 0.9561\n",
      "Epoch 14/50\n",
      "26/26 - 18s - loss: 0.0876 - accuracy: 0.9793 - val_loss: 0.1112 - val_accuracy: 0.9512\n",
      "Epoch 15/50\n",
      "Restoring model weights from the end of the best epoch.\n",
      "26/26 - 18s - loss: 0.0827 - accuracy: 0.9793 - val_loss: 0.0787 - val_accuracy: 0.9805\n",
      "Epoch 00015: early stopping\n"
     ]
    },
    {
     "data": {
      "text/plain": [
       "<tensorflow.python.keras.callbacks.History at 0x7b347924bdd0>"
      ]
     },
     "execution_count": 15,
     "metadata": {},
     "output_type": "execute_result"
    }
   ],
   "source": [
    "model = build_model(dense_units=256)\n",
    "model.compile(\n",
    "    optimizer='sgd',\n",
    "    loss='sparse_categorical_crossentropy', \n",
    "    metrics=['accuracy'])\n",
    "  \n",
    "model.fit(train_batches, \n",
    "          epochs=50, \n",
    "          validation_data=validation_batches, \n",
    "          verbose=2,\n",
    "          callbacks=[EarlyStopping(\n",
    "              patience=3,\n",
    "              min_delta=0.05,\n",
    "              baseline=0.8,\n",
    "              mode='min',\n",
    "              monitor='val_loss',\n",
    "              restore_best_weights=True,\n",
    "              verbose=1)\n",
    "          ])"
   ]
  },
  {
   "cell_type": "markdown",
   "metadata": {
    "colab_type": "text",
    "id": "8mDzWUD4Pqq5"
   },
   "source": [
    "## [CSV Logger](https://keras.io/api/callbacks/csv_logger/)\n",
    "\n",
    "Callback that streams epoch results to a CSV file."
   ]
  },
  {
   "cell_type": "code",
   "execution_count": 16,
   "metadata": {
    "colab": {},
    "colab_type": "code",
    "id": "cffnMpmGPtMh"
   },
   "outputs": [
    {
     "name": "stdout",
     "output_type": "stream",
     "text": [
      "Epoch 1/5\n",
      "26/26 [==============================] - 19s 721ms/step - loss: 0.6783 - accuracy: 0.5839 - val_loss: 0.6856 - val_accuracy: 0.4390\n",
      "Epoch 2/5\n",
      "26/26 [==============================] - 18s 700ms/step - loss: 0.6445 - accuracy: 0.6411 - val_loss: 0.6551 - val_accuracy: 0.5268\n",
      "Epoch 3/5\n",
      "26/26 [==============================] - 18s 708ms/step - loss: 0.6065 - accuracy: 0.7044 - val_loss: 0.5709 - val_accuracy: 0.8146\n",
      "Epoch 4/5\n",
      "26/26 [==============================] - 18s 700ms/step - loss: 0.5555 - accuracy: 0.7311 - val_loss: 0.5223 - val_accuracy: 0.8146\n",
      "Epoch 5/5\n",
      "26/26 [==============================] - 18s 692ms/step - loss: 0.5111 - accuracy: 0.7689 - val_loss: 0.4592 - val_accuracy: 0.8439\n"
     ]
    },
    {
     "data": {
      "text/plain": [
       "<tensorflow.python.keras.callbacks.History at 0x7b34790e5b10>"
      ]
     },
     "execution_count": 16,
     "metadata": {},
     "output_type": "execute_result"
    }
   ],
   "source": [
    "model = build_model(dense_units=256)\n",
    "model.compile(\n",
    "    optimizer='sgd',\n",
    "    loss='sparse_categorical_crossentropy', \n",
    "    metrics=['accuracy'])\n",
    "  \n",
    "csv_file = 'training.csv'\n",
    "\n",
    "model.fit(train_batches, \n",
    "          epochs=5, \n",
    "          validation_data=validation_batches, \n",
    "          callbacks=[CSVLogger(csv_file)\n",
    "          ])"
   ]
  },
  {
   "cell_type": "code",
   "execution_count": 17,
   "metadata": {
    "colab": {},
    "colab_type": "code",
    "id": "B9tkYi03QV7R"
   },
   "outputs": [
    {
     "data": {
      "text/html": [
       "<div>\n",
       "<style scoped>\n",
       "    .dataframe tbody tr th:only-of-type {\n",
       "        vertical-align: middle;\n",
       "    }\n",
       "\n",
       "    .dataframe tbody tr th {\n",
       "        vertical-align: top;\n",
       "    }\n",
       "\n",
       "    .dataframe thead th {\n",
       "        text-align: right;\n",
       "    }\n",
       "</style>\n",
       "<table border=\"1\" class=\"dataframe\">\n",
       "  <thead>\n",
       "    <tr style=\"text-align: right;\">\n",
       "      <th></th>\n",
       "      <th>epoch</th>\n",
       "      <th>accuracy</th>\n",
       "      <th>loss</th>\n",
       "      <th>val_accuracy</th>\n",
       "      <th>val_loss</th>\n",
       "    </tr>\n",
       "  </thead>\n",
       "  <tbody>\n",
       "    <tr>\n",
       "      <th>0</th>\n",
       "      <td>0</td>\n",
       "      <td>0.583942</td>\n",
       "      <td>0.678476</td>\n",
       "      <td>0.439024</td>\n",
       "      <td>0.685583</td>\n",
       "    </tr>\n",
       "    <tr>\n",
       "      <th>1</th>\n",
       "      <td>1</td>\n",
       "      <td>0.641119</td>\n",
       "      <td>0.644677</td>\n",
       "      <td>0.526829</td>\n",
       "      <td>0.655062</td>\n",
       "    </tr>\n",
       "    <tr>\n",
       "      <th>2</th>\n",
       "      <td>2</td>\n",
       "      <td>0.704380</td>\n",
       "      <td>0.606691</td>\n",
       "      <td>0.814634</td>\n",
       "      <td>0.570920</td>\n",
       "    </tr>\n",
       "    <tr>\n",
       "      <th>3</th>\n",
       "      <td>3</td>\n",
       "      <td>0.731144</td>\n",
       "      <td>0.556815</td>\n",
       "      <td>0.814634</td>\n",
       "      <td>0.522279</td>\n",
       "    </tr>\n",
       "    <tr>\n",
       "      <th>4</th>\n",
       "      <td>4</td>\n",
       "      <td>0.768856</td>\n",
       "      <td>0.512973</td>\n",
       "      <td>0.843902</td>\n",
       "      <td>0.459243</td>\n",
       "    </tr>\n",
       "  </tbody>\n",
       "</table>\n",
       "</div>"
      ],
      "text/plain": [
       "   epoch  accuracy      loss  val_accuracy  val_loss\n",
       "0      0  0.583942  0.678476      0.439024  0.685583\n",
       "1      1  0.641119  0.644677      0.526829  0.655062\n",
       "2      2  0.704380  0.606691      0.814634  0.570920\n",
       "3      3  0.731144  0.556815      0.814634  0.522279\n",
       "4      4  0.768856  0.512973      0.843902  0.459243"
      ]
     },
     "execution_count": 17,
     "metadata": {},
     "output_type": "execute_result"
    }
   ],
   "source": [
    "pd.read_csv(csv_file).head()"
   ]
  },
  {
   "cell_type": "markdown",
   "metadata": {
    "colab_type": "text",
    "id": "Dt9C2Y9fRBKN"
   },
   "source": [
    "## [Learning Rate Scheduler](https://keras.io/api/callbacks/learning_rate_scheduler/)\n",
    "\n",
    "Updates the learning rate during training."
   ]
  },
  {
   "cell_type": "code",
   "execution_count": 18,
   "metadata": {
    "colab": {},
    "colab_type": "code",
    "id": "aJi-xY2VRC03"
   },
   "outputs": [
    {
     "name": "stdout",
     "output_type": "stream",
     "text": [
      "\n",
      "Epoch 00001: LearningRateScheduler reducing learning rate to 0.005.\n",
      "Epoch 1/5\n",
      "26/26 [==============================] - 29s 1s/step - loss: 0.6714 - accuracy: 0.6290 - val_loss: 0.6823 - val_accuracy: 0.4488\n",
      "\n",
      "Epoch 00002: LearningRateScheduler reducing learning rate to 0.0025.\n",
      "Epoch 2/5\n",
      "26/26 [==============================] - 19s 722ms/step - loss: 0.6439 - accuracy: 0.6277 - val_loss: 0.6449 - val_accuracy: 0.7610\n",
      "\n",
      "Epoch 00003: LearningRateScheduler reducing learning rate to 0.00125.\n",
      "Epoch 3/5\n",
      "26/26 [==============================] - 19s 716ms/step - loss: 0.6293 - accuracy: 0.7518 - val_loss: 0.6358 - val_accuracy: 0.7805\n",
      "\n",
      "Epoch 00004: LearningRateScheduler reducing learning rate to 0.000625.\n",
      "Epoch 4/5\n",
      "26/26 [==============================] - 19s 716ms/step - loss: 0.6205 - accuracy: 0.7920 - val_loss: 0.6327 - val_accuracy: 0.7659\n",
      "\n",
      "Epoch 00005: LearningRateScheduler reducing learning rate to 0.0003125.\n",
      "Epoch 5/5\n",
      "26/26 [==============================] - 18s 711ms/step - loss: 0.6165 - accuracy: 0.7920 - val_loss: 0.6301 - val_accuracy: 0.7756\n"
     ]
    },
    {
     "data": {
      "text/plain": [
       "<tensorflow.python.keras.callbacks.History at 0x7b3478f92f50>"
      ]
     },
     "execution_count": 18,
     "metadata": {},
     "output_type": "execute_result"
    }
   ],
   "source": [
    "model = build_model(dense_units=256)\n",
    "model.compile(\n",
    "    optimizer='sgd',\n",
    "    loss='sparse_categorical_crossentropy', \n",
    "    metrics=['accuracy'])\n",
    "  \n",
    "def step_decay(epoch):\n",
    "\tinitial_lr = 0.01\n",
    "\tdrop = 0.5\n",
    "\tepochs_drop = 1\n",
    "\tlr = initial_lr * math.pow(drop, math.floor((1+epoch)/epochs_drop))\n",
    "\treturn lr\n",
    "\n",
    "model.fit(train_batches, \n",
    "          epochs=5, \n",
    "          validation_data=validation_batches, \n",
    "          callbacks=[LearningRateScheduler(step_decay, verbose=1),\n",
    "                    TensorBoard(log_dir='./log_dir')])"
   ]
  },
  {
   "cell_type": "code",
   "execution_count": 19,
   "metadata": {
    "colab": {},
    "colab_type": "code",
    "id": "M2S4n8nrbV91"
   },
   "outputs": [
    {
     "data": {
      "text/html": [
       "\n",
       "      <iframe id=\"tensorboard-frame-3df4b0210059f29a\" width=\"100%\" height=\"800\" frameborder=\"0\">\n",
       "      </iframe>\n",
       "      <script>\n",
       "        (function() {\n",
       "          const frame = document.getElementById(\"tensorboard-frame-3df4b0210059f29a\");\n",
       "          const url = new URL(\"/\", window.location);\n",
       "          url.port = 6007;\n",
       "          frame.src = url;\n",
       "        })();\n",
       "      </script>\n",
       "  "
      ],
      "text/plain": [
       "<IPython.core.display.HTML object>"
      ]
     },
     "metadata": {},
     "output_type": "display_data"
    }
   ],
   "source": [
    "%tensorboard --logdir log_dir"
   ]
  },
  {
   "cell_type": "markdown",
   "metadata": {
    "colab_type": "text",
    "id": "y0wcuQyJE_UK"
   },
   "source": [
    "## [ReduceLROnPlateau](https://keras.io/api/callbacks/reduce_lr_on_plateau/)\n",
    "\n",
    "Reduce learning rate when a metric has stopped improving."
   ]
  },
  {
   "cell_type": "code",
   "execution_count": 20,
   "metadata": {
    "colab": {},
    "colab_type": "code",
    "id": "4naxZ-eCFB27"
   },
   "outputs": [
    {
     "name": "stdout",
     "output_type": "stream",
     "text": [
      "Epoch 1/50\n",
      "26/26 [==============================] - 20s 775ms/step - loss: 0.6820 - accuracy: 0.5596 - val_loss: 0.7284 - val_accuracy: 0.4341\n",
      "Epoch 2/50\n",
      "26/26 [==============================] - 19s 729ms/step - loss: 0.6271 - accuracy: 0.6606 - val_loss: 0.5837 - val_accuracy: 0.8634\n",
      "Epoch 3/50\n",
      "26/26 [==============================] - 19s 715ms/step - loss: 0.5753 - accuracy: 0.7457 - val_loss: 0.5685 - val_accuracy: 0.6732\n",
      "Epoch 4/50\n",
      "26/26 [==============================] - 18s 711ms/step - loss: 0.5079 - accuracy: 0.7871 - val_loss: 0.4375 - val_accuracy: 0.8829\n",
      "Epoch 5/50\n",
      "26/26 [==============================] - 19s 731ms/step - loss: 0.4288 - accuracy: 0.8321 - val_loss: 0.3944 - val_accuracy: 0.8537\n",
      "Epoch 6/50\n",
      "26/26 [==============================] - 18s 708ms/step - loss: 0.3653 - accuracy: 0.8662 - val_loss: 0.2853 - val_accuracy: 0.9366\n",
      "Epoch 7/50\n",
      "25/26 [===========================>..] - ETA: 0s - loss: 0.2893 - accuracy: 0.9150\n",
      "Epoch 00007: ReduceLROnPlateau reducing learning rate to 0.0019999999552965165.\n",
      "26/26 [==============================] - 19s 712ms/step - loss: 0.2955 - accuracy: 0.9100 - val_loss: 0.4310 - val_accuracy: 0.7707\n",
      "Epoch 8/50\n",
      "26/26 [==============================] - 18s 708ms/step - loss: 0.2514 - accuracy: 0.9307 - val_loss: 0.1999 - val_accuracy: 0.9610\n",
      "Epoch 9/50\n",
      "26/26 [==============================] - 18s 700ms/step - loss: 0.2100 - accuracy: 0.9526 - val_loss: 0.1926 - val_accuracy: 0.9561\n",
      "Epoch 10/50\n",
      "26/26 [==============================] - 18s 700ms/step - loss: 0.1965 - accuracy: 0.9562 - val_loss: 0.1796 - val_accuracy: 0.9561\n",
      "Epoch 11/50\n",
      "26/26 [==============================] - 18s 707ms/step - loss: 0.1869 - accuracy: 0.9647 - val_loss: 0.1596 - val_accuracy: 0.9659\n",
      "Epoch 12/50\n",
      "26/26 [==============================] - 18s 707ms/step - loss: 0.1761 - accuracy: 0.9562 - val_loss: 0.1501 - val_accuracy: 0.9659\n",
      "Epoch 13/50\n",
      "26/26 [==============================] - 19s 735ms/step - loss: 0.1684 - accuracy: 0.9635 - val_loss: 0.1456 - val_accuracy: 0.9659\n",
      "Epoch 14/50\n",
      "26/26 [==============================] - 19s 738ms/step - loss: 0.1595 - accuracy: 0.9659 - val_loss: 0.1415 - val_accuracy: 0.9659\n",
      "Epoch 15/50\n",
      "26/26 [==============================] - 20s 754ms/step - loss: 0.1523 - accuracy: 0.9696 - val_loss: 0.1377 - val_accuracy: 0.9659\n",
      "Epoch 16/50\n",
      "26/26 [==============================] - 19s 727ms/step - loss: 0.1455 - accuracy: 0.9696 - val_loss: 0.1307 - val_accuracy: 0.9659\n",
      "Epoch 17/50\n",
      "26/26 [==============================] - 20s 750ms/step - loss: 0.1381 - accuracy: 0.9720 - val_loss: 0.1173 - val_accuracy: 0.9707\n",
      "Epoch 18/50\n",
      "26/26 [==============================] - 19s 750ms/step - loss: 0.1342 - accuracy: 0.9708 - val_loss: 0.1121 - val_accuracy: 0.9707\n",
      "Epoch 19/50\n",
      "25/26 [===========================>..] - ETA: 0s - loss: 0.1277 - accuracy: 0.9762\n",
      "Epoch 00019: ReduceLROnPlateau reducing learning rate to 0.001.\n",
      "26/26 [==============================] - 19s 735ms/step - loss: 0.1275 - accuracy: 0.9769 - val_loss: 0.1145 - val_accuracy: 0.9659\n",
      "Epoch 20/50\n",
      "26/26 [==============================] - 19s 742ms/step - loss: 0.1222 - accuracy: 0.9781 - val_loss: 0.1087 - val_accuracy: 0.9659\n",
      "Epoch 21/50\n",
      "26/26 [==============================] - 19s 723ms/step - loss: 0.1194 - accuracy: 0.9769 - val_loss: 0.1050 - val_accuracy: 0.9707\n",
      "Epoch 22/50\n",
      "25/26 [===========================>..] - ETA: 0s - loss: 0.1175 - accuracy: 0.9775\n",
      "Epoch 00022: ReduceLROnPlateau reducing learning rate to 0.001.\n",
      "26/26 [==============================] - 19s 738ms/step - loss: 0.1175 - accuracy: 0.9781 - val_loss: 0.1078 - val_accuracy: 0.9659\n",
      "Epoch 23/50\n",
      "26/26 [==============================] - 19s 719ms/step - loss: 0.1156 - accuracy: 0.9793 - val_loss: 0.1009 - val_accuracy: 0.9707\n",
      "Epoch 24/50\n",
      "25/26 [===========================>..] - ETA: 0s - loss: 0.1142 - accuracy: 0.9787\n",
      "Epoch 00024: ReduceLROnPlateau reducing learning rate to 0.001.\n",
      "26/26 [==============================] - 19s 715ms/step - loss: 0.1124 - accuracy: 0.9793 - val_loss: 0.1008 - val_accuracy: 0.9707\n",
      "Epoch 25/50\n",
      "25/26 [===========================>..] - ETA: 0s - loss: 0.1125 - accuracy: 0.9787\n",
      "Epoch 00025: ReduceLROnPlateau reducing learning rate to 0.001.\n",
      "26/26 [==============================] - 19s 715ms/step - loss: 0.1109 - accuracy: 0.9793 - val_loss: 0.1023 - val_accuracy: 0.9659\n",
      "Epoch 26/50\n",
      "26/26 [==============================] - 19s 723ms/step - loss: 0.1082 - accuracy: 0.9769 - val_loss: 0.0983 - val_accuracy: 0.9707\n",
      "Epoch 27/50\n",
      "25/26 [===========================>..] - ETA: 0s - loss: 0.1051 - accuracy: 0.9825\n",
      "Epoch 00027: ReduceLROnPlateau reducing learning rate to 0.001.\n",
      "26/26 [==============================] - 19s 719ms/step - loss: 0.1075 - accuracy: 0.9818 - val_loss: 0.1016 - val_accuracy: 0.9659\n",
      "Epoch 28/50\n",
      "26/26 [==============================] - 19s 727ms/step - loss: 0.1053 - accuracy: 0.9769 - val_loss: 0.0943 - val_accuracy: 0.9707\n",
      "Epoch 29/50\n",
      "25/26 [===========================>..] - ETA: 0s - loss: 0.1050 - accuracy: 0.9800\n",
      "Epoch 00029: ReduceLROnPlateau reducing learning rate to 0.001.\n",
      "26/26 [==============================] - 19s 723ms/step - loss: 0.1034 - accuracy: 0.9805 - val_loss: 0.0958 - val_accuracy: 0.9659\n",
      "Epoch 30/50\n",
      "26/26 [==============================] - 19s 731ms/step - loss: 0.1016 - accuracy: 0.9830 - val_loss: 0.0938 - val_accuracy: 0.9707\n",
      "Epoch 31/50\n",
      "26/26 [==============================] - 19s 735ms/step - loss: 0.0990 - accuracy: 0.9818 - val_loss: 0.0902 - val_accuracy: 0.9756\n",
      "Epoch 32/50\n",
      "25/26 [===========================>..] - ETA: 0s - loss: 0.0983 - accuracy: 0.9825\n",
      "Epoch 00032: ReduceLROnPlateau reducing learning rate to 0.001.\n",
      "26/26 [==============================] - 19s 730ms/step - loss: 0.0965 - accuracy: 0.9830 - val_loss: 0.0924 - val_accuracy: 0.9659\n",
      "Epoch 33/50\n",
      "26/26 [==============================] - 19s 743ms/step - loss: 0.0956 - accuracy: 0.9793 - val_loss: 0.0896 - val_accuracy: 0.9707\n",
      "Epoch 34/50\n",
      "26/26 [==============================] - 19s 719ms/step - loss: 0.0942 - accuracy: 0.9805 - val_loss: 0.0871 - val_accuracy: 0.9756\n",
      "Epoch 35/50\n",
      "25/26 [===========================>..] - ETA: 0s - loss: 0.0925 - accuracy: 0.9825\n",
      "Epoch 00035: ReduceLROnPlateau reducing learning rate to 0.001.\n",
      "26/26 [==============================] - 19s 727ms/step - loss: 0.0917 - accuracy: 0.9830 - val_loss: 0.0873 - val_accuracy: 0.9756\n",
      "Epoch 36/50\n",
      "26/26 [==============================] - 19s 727ms/step - loss: 0.0917 - accuracy: 0.9805 - val_loss: 0.0859 - val_accuracy: 0.9756\n",
      "Epoch 37/50\n",
      "26/26 [==============================] - 19s 723ms/step - loss: 0.0891 - accuracy: 0.9818 - val_loss: 0.0840 - val_accuracy: 0.9756\n",
      "Epoch 38/50\n",
      "25/26 [===========================>..] - ETA: 0s - loss: 0.0887 - accuracy: 0.9812\n",
      "Epoch 00038: ReduceLROnPlateau reducing learning rate to 0.001.\n",
      "26/26 [==============================] - 19s 735ms/step - loss: 0.0874 - accuracy: 0.9818 - val_loss: 0.0850 - val_accuracy: 0.9756\n",
      "Epoch 39/50\n",
      "25/26 [===========================>..] - ETA: 0s - loss: 0.0863 - accuracy: 0.9812\n",
      "Epoch 00039: ReduceLROnPlateau reducing learning rate to 0.001.\n",
      "26/26 [==============================] - 19s 715ms/step - loss: 0.0860 - accuracy: 0.9818 - val_loss: 0.0843 - val_accuracy: 0.9756\n",
      "Epoch 40/50\n",
      "25/26 [===========================>..] - ETA: 0s - loss: 0.0866 - accuracy: 0.9812\n",
      "Epoch 00040: ReduceLROnPlateau reducing learning rate to 0.001.\n",
      "26/26 [==============================] - 18s 711ms/step - loss: 0.0850 - accuracy: 0.9818 - val_loss: 0.0845 - val_accuracy: 0.9756\n",
      "Epoch 41/50\n",
      "26/26 [==============================] - 19s 719ms/step - loss: 0.0832 - accuracy: 0.9830 - val_loss: 0.0802 - val_accuracy: 0.9756\n",
      "Epoch 42/50\n",
      "25/26 [===========================>..] - ETA: 0s - loss: 0.0828 - accuracy: 0.9825\n",
      "Epoch 00042: ReduceLROnPlateau reducing learning rate to 0.001.\n",
      "26/26 [==============================] - 19s 739ms/step - loss: 0.0814 - accuracy: 0.9830 - val_loss: 0.0895 - val_accuracy: 0.9707\n",
      "Epoch 43/50\n",
      "26/26 [==============================] - 19s 734ms/step - loss: 0.0821 - accuracy: 0.9818 - val_loss: 0.0782 - val_accuracy: 0.9756\n",
      "Epoch 44/50\n"
     ]
    },
    {
     "name": "stdout",
     "output_type": "stream",
     "text": [
      "25/26 [===========================>..] - ETA: 0s - loss: 0.0808 - accuracy: 0.9800\n",
      "Epoch 00044: ReduceLROnPlateau reducing learning rate to 0.001.\n",
      "26/26 [==============================] - 19s 738ms/step - loss: 0.0803 - accuracy: 0.9805 - val_loss: 0.0802 - val_accuracy: 0.9756\n",
      "Epoch 45/50\n",
      "25/26 [===========================>..] - ETA: 0s - loss: 0.0779 - accuracy: 0.9850\n",
      "Epoch 00045: ReduceLROnPlateau reducing learning rate to 0.001.\n",
      "26/26 [==============================] - 19s 727ms/step - loss: 0.0778 - accuracy: 0.9854 - val_loss: 0.0788 - val_accuracy: 0.9756\n",
      "Epoch 46/50\n",
      "25/26 [===========================>..] - ETA: 0s - loss: 0.0771 - accuracy: 0.9837\n",
      "Epoch 00046: ReduceLROnPlateau reducing learning rate to 0.001.\n",
      "26/26 [==============================] - 19s 735ms/step - loss: 0.0766 - accuracy: 0.9842 - val_loss: 0.0789 - val_accuracy: 0.9756\n",
      "Epoch 47/50\n",
      "26/26 [==============================] - 19s 731ms/step - loss: 0.0753 - accuracy: 0.9842 - val_loss: 0.0770 - val_accuracy: 0.9756\n",
      "Epoch 48/50\n",
      "25/26 [===========================>..] - ETA: 0s - loss: 0.0744 - accuracy: 0.9825\n",
      "Epoch 00048: ReduceLROnPlateau reducing learning rate to 0.001.\n",
      "26/26 [==============================] - 19s 730ms/step - loss: 0.0742 - accuracy: 0.9830 - val_loss: 0.0773 - val_accuracy: 0.9756\n",
      "Epoch 49/50\n",
      "26/26 [==============================] - 19s 721ms/step - loss: 0.0726 - accuracy: 0.9842 - val_loss: 0.0740 - val_accuracy: 0.9756\n",
      "Epoch 50/50\n",
      "25/26 [===========================>..] - ETA: 0s - loss: 0.0722 - accuracy: 0.9875\n",
      "Epoch 00050: ReduceLROnPlateau reducing learning rate to 0.001.\n",
      "26/26 [==============================] - 19s 750ms/step - loss: 0.0707 - accuracy: 0.9878 - val_loss: 0.0746 - val_accuracy: 0.9756\n"
     ]
    },
    {
     "data": {
      "text/plain": [
       "<tensorflow.python.keras.callbacks.History at 0x7b3479184410>"
      ]
     },
     "execution_count": 20,
     "metadata": {},
     "output_type": "execute_result"
    }
   ],
   "source": [
    "model = build_model(dense_units=256)\n",
    "model.compile(\n",
    "    optimizer='sgd',\n",
    "    loss='sparse_categorical_crossentropy', \n",
    "    metrics=['accuracy'])\n",
    "  \n",
    "model.fit(train_batches, \n",
    "          epochs=50, \n",
    "          validation_data=validation_batches, \n",
    "          callbacks=[ReduceLROnPlateau(monitor='val_loss', \n",
    "                                       factor=0.2, verbose=1,\n",
    "                                       patience=1, min_lr=0.001),\n",
    "                     TensorBoard(log_dir='./log_dir')])"
   ]
  },
  {
   "cell_type": "code",
   "execution_count": 21,
   "metadata": {
    "colab": {},
    "colab_type": "code",
    "id": "isfTWP4NYudk"
   },
   "outputs": [
    {
     "data": {
      "text/plain": [
       "Reusing TensorBoard on port 6007 (pid 5054), started 0:15:47 ago. (Use '!kill 5054' to kill it.)"
      ]
     },
     "metadata": {},
     "output_type": "display_data"
    },
    {
     "data": {
      "text/html": [
       "\n",
       "      <iframe id=\"tensorboard-frame-de69e5cc128d2303\" width=\"100%\" height=\"800\" frameborder=\"0\">\n",
       "      </iframe>\n",
       "      <script>\n",
       "        (function() {\n",
       "          const frame = document.getElementById(\"tensorboard-frame-de69e5cc128d2303\");\n",
       "          const url = new URL(\"/\", window.location);\n",
       "          url.port = 6007;\n",
       "          frame.src = url;\n",
       "        })();\n",
       "      </script>\n",
       "  "
      ],
      "text/plain": [
       "<IPython.core.display.HTML object>"
      ]
     },
     "metadata": {},
     "output_type": "display_data"
    }
   ],
   "source": [
    "%tensorboard --logdir log_dir"
   ]
  }
 ],
 "metadata": {
  "colab": {
   "collapsed_sections": [],
   "include_colab_link": true,
   "name": "ExploringCallbacks.ipynb",
   "provenance": []
  },
  "kernelspec": {
   "display_name": "Python 3",
   "language": "python",
   "name": "python3"
  },
  "language_info": {
   "codemirror_mode": {
    "name": "ipython",
    "version": 3
   },
   "file_extension": ".py",
   "mimetype": "text/x-python",
   "name": "python",
   "nbconvert_exporter": "python",
   "pygments_lexer": "ipython3",
   "version": "3.7.6"
  }
 },
 "nbformat": 4,
 "nbformat_minor": 4
}
